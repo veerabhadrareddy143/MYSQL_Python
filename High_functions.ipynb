{
 "cells": [
  {
   "cell_type": "markdown",
   "id": "59f104f7",
   "metadata": {},
   "source": [
    "# lambda"
   ]
  },
  {
   "cell_type": "code",
   "execution_count": 5,
   "id": "30312626",
   "metadata": {},
   "outputs": [
    {
     "name": "stdout",
     "output_type": "stream",
     "text": [
      "20\n",
      "16\n"
     ]
    }
   ],
   "source": [
    "ad = lambda a : a+10\n",
    "print(ad(10))\n",
    "\n",
    "sqr = lambda b : b*b\n",
    "print(sqr(4))"
   ]
  },
  {
   "cell_type": "markdown",
   "id": "e6ceb61d",
   "metadata": {},
   "source": [
    "# Map"
   ]
  },
  {
   "cell_type": "code",
   "execution_count": 8,
   "id": "be01630f",
   "metadata": {},
   "outputs": [
    {
     "name": "stdout",
     "output_type": "stream",
     "text": [
      "[1, 4, 9, 16, 25]\n",
      "[11, 12, 13, 14, 15]\n"
     ]
    }
   ],
   "source": [
    "list1=[1,2,3,4,5]\n",
    "\n",
    "sqrs = list(map(sqr,list1))\n",
    "print(sqrs)\n",
    "\n",
    "ads = list(map(ad,list1))\n",
    "print(ads)"
   ]
  },
  {
   "cell_type": "markdown",
   "id": "3bd56fd5",
   "metadata": {},
   "source": [
    "# Filter"
   ]
  },
  {
   "cell_type": "code",
   "execution_count": 10,
   "id": "4659b505",
   "metadata": {},
   "outputs": [
    {
     "name": "stdout",
     "output_type": "stream",
     "text": [
      "[12, 14]\n",
      "[2, 4, 6, 8, 10, 12, 14, 16, 18, 20]\n"
     ]
    }
   ],
   "source": [
    "list2 = list(filter(lambda a:a%2==0 ,ads ))\n",
    "print(list2)\n",
    "\n",
    "list3 = list(filter(lambda a:a%2==0 ,range(1,21) ))\n",
    "print(list3)"
   ]
  },
  {
   "cell_type": "markdown",
   "id": "572f7cea",
   "metadata": {},
   "source": [
    "# Reduce"
   ]
  },
  {
   "cell_type": "code",
   "execution_count": 11,
   "id": "1a45c789",
   "metadata": {},
   "outputs": [
    {
     "name": "stdout",
     "output_type": "stream",
     "text": [
      "110\n"
     ]
    }
   ],
   "source": [
    "from functools import reduce\n",
    "\n",
    "sum = reduce(lambda a,b:a+b , list3)\n",
    "print(sum)"
   ]
  },
  {
   "cell_type": "code",
   "execution_count": null,
   "id": "cbdbc034",
   "metadata": {},
   "outputs": [],
   "source": []
  }
 ],
 "metadata": {
  "kernelspec": {
   "display_name": "Python 3 (ipykernel)",
   "language": "python",
   "name": "python3"
  },
  "language_info": {
   "codemirror_mode": {
    "name": "ipython",
    "version": 3
   },
   "file_extension": ".py",
   "mimetype": "text/x-python",
   "name": "python",
   "nbconvert_exporter": "python",
   "pygments_lexer": "ipython3",
   "version": "3.11.3"
  }
 },
 "nbformat": 4,
 "nbformat_minor": 5
}
