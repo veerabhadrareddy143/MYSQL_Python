{
 "cells": [
  {
   "cell_type": "code",
   "execution_count": 1,
   "id": "162c111f",
   "metadata": {},
   "outputs": [],
   "source": [
    "import mysql.connector"
   ]
  },
  {
   "cell_type": "markdown",
   "id": "7cf455a7",
   "metadata": {},
   "source": [
    "# Connecting to mysql database"
   ]
  },
  {
   "cell_type": "code",
   "execution_count": 2,
   "id": "0e0468f6",
   "metadata": {},
   "outputs": [
    {
     "name": "stdout",
     "output_type": "stream",
     "text": [
      "('data_employee',)\n",
      "('information_schema',)\n",
      "('mydatabase1',)\n",
      "('mysql',)\n",
      "('performance_schema',)\n",
      "('sales',)\n",
      "('sys',)\n"
     ]
    }
   ],
   "source": [
    "mydb = mysql.connector.connect(\n",
    "    host=\"127.0.0.1\",\n",
    "    user=\"root\",\n",
    "    password=\"Veera@123\",\n",
    "    database=\"mydatabase1\"\n",
    "    \n",
    ")\n",
    "# creating a cursor\n",
    "\n",
    "mycursor = mydb.cursor()\n",
    "mycursor.execute(\"SHOW DATABASES\")\n",
    "for i in mycursor:\n",
    "    print(i)\n"
   ]
  },
  {
   "cell_type": "markdown",
   "id": "f4696a03",
   "metadata": {},
   "source": [
    "# Use preferred db from above"
   ]
  },
  {
   "cell_type": "code",
   "execution_count": 3,
   "id": "7aca7318",
   "metadata": {},
   "outputs": [],
   "source": [
    "query_u = \"USE data_employee\"\n",
    "mycursor.execute(query_u)"
   ]
  },
  {
   "cell_type": "markdown",
   "id": "ed8d22e3",
   "metadata": {},
   "source": [
    "# Get Tables in it"
   ]
  },
  {
   "cell_type": "code",
   "execution_count": 4,
   "id": "f83b27e0",
   "metadata": {},
   "outputs": [
    {
     "name": "stdout",
     "output_type": "stream",
     "text": [
      "('customer_table',)\n",
      "('customer_view',)\n",
      "('department_dataset',)\n",
      "('employee',)\n",
      "('employee_table',)\n"
     ]
    }
   ],
   "source": [
    "mycursor.execute(\"SHOW TABLES\")\n",
    "for i in mycursor:\n",
    "    print(i)"
   ]
  },
  {
   "cell_type": "markdown",
   "id": "49fad6e9",
   "metadata": {},
   "source": [
    "# Select and Insert operations"
   ]
  },
  {
   "cell_type": "code",
   "execution_count": 5,
   "id": "12fd606e",
   "metadata": {},
   "outputs": [
    {
     "name": "stdout",
     "output_type": "stream",
     "text": [
      "(1, 'veera', 22, 'kadapa')\n",
      "(2, 'ajay', 22, 'rajamundry')\n",
      "(3, 'rahul', 23, 'Ananthapur')\n",
      "(4, 'aniket', 22, 'proddutur')\n",
      "(5, 'sreekanth', 22, 'narpala')\n",
      "(6, 'chandana', 22, 'Rayachoty')\n",
      "(1, 'veera', 22, 'kadapa')\n",
      "(2, 'ajay', 22, 'rajamundry')\n",
      "(3, 'rahul', 23, 'Ananthapur')\n",
      "(4, 'aniket', 22, 'proddutur')\n",
      "(5, 'sreekanth', 22, 'narpala')\n",
      "(6, 'chandana', 22, 'Rayachoty')\n",
      "(8, 'venni', 23, 'kodhada')\n"
     ]
    }
   ],
   "source": [
    "query_s = \"SELECT * FROM customer_table\"\n",
    "# mycursor.execute(query_s)\n",
    "# or \n",
    "# fetching all with function\n",
    "mycursor.execute(\"SELECT * FROM customer_table\")\n",
    "myresult= mycursor.fetchall()\n",
    "for i in myresult:\n",
    "    print(i)\n",
    "\n",
    "# INSERTING a row in a table\n",
    "query_i = \"INSERT INTO customer_table (cust_id,cust_name , age,address) VALUES(8,'venni',23,'kodhada')\"\n",
    "mycursor.execute(query_i)\n",
    "\n",
    "mycursor.execute(\"SELECT * FROM customer_table\")\n",
    "myresult= mycursor.fetchall()\n",
    "for i in myresult:\n",
    "    print(i)\n",
    "    \n"
   ]
  },
  {
   "cell_type": "markdown",
   "id": "e2e732b1",
   "metadata": {},
   "source": [
    "# Deleting a row "
   ]
  },
  {
   "cell_type": "code",
   "execution_count": 6,
   "id": "1239d4f0",
   "metadata": {},
   "outputs": [
    {
     "name": "stdout",
     "output_type": "stream",
     "text": [
      "(1, 'veera', 22, 'kadapa')\n",
      "(2, 'ajay', 22, 'rajamundry')\n",
      "(3, 'rahul', 23, 'Ananthapur')\n",
      "(4, 'aniket', 22, 'proddutur')\n",
      "(5, 'sreekanth', 22, 'narpala')\n",
      "(6, 'chandana', 22, 'Rayachoty')\n"
     ]
    }
   ],
   "source": [
    "# DELETING a row in table\n",
    "\n",
    "query_d = \"DELETE FROM customer_table WHERE cust_id=8\"\n",
    "mycursor.execute(query_d)\n",
    "\n",
    "mycursor.execute(\"SELECT * FROM customer_table\")\n",
    "myresult= mycursor.fetchall()\n",
    "for i in myresult:\n",
    "    print(i)\n"
   ]
  },
  {
   "cell_type": "markdown",
   "id": "15523646",
   "metadata": {},
   "source": [
    "# Update a value"
   ]
  },
  {
   "cell_type": "code",
   "execution_count": 7,
   "id": "4927c75f",
   "metadata": {},
   "outputs": [
    {
     "name": "stdout",
     "output_type": "stream",
     "text": [
      "(1, 'veera', 22, 'kadapa')\n",
      "(2, 'ajay', 22, 'rajamundry')\n",
      "(3, 'rahul', 23, 'Ananthapur')\n",
      "(4, 'aniket', 22, 'proddutur')\n",
      "(5, 'sreekanth', 22, 'narpala')\n",
      "(6, 'chandana', 22, 'Rayachoty')\n"
     ]
    }
   ],
   "source": [
    "query_u = \"UPDATE customer_table SET age=23 WHERE cust_name='chandana'\"\n",
    "mycursor.execute(query_s)\n",
    "for i in mycursor:\n",
    "    print(i)\n",
    "    "
   ]
  },
  {
   "cell_type": "markdown",
   "id": "67ab8c4c",
   "metadata": {},
   "source": [
    "# Where condition"
   ]
  },
  {
   "cell_type": "code",
   "execution_count": 8,
   "id": "818be80c",
   "metadata": {},
   "outputs": [],
   "source": [
    "query_s1= \"SELECT * FROM customer_table where age=22\"\n",
    "mycursor.execute(query_s1)\n"
   ]
  },
  {
   "cell_type": "markdown",
   "id": "f28f7e19",
   "metadata": {},
   "source": [
    "# Fetchall function"
   ]
  },
  {
   "cell_type": "markdown",
   "id": "27f153a3",
   "metadata": {},
   "source": [
    "age_persons=mycursor.fetchall()\n",
    "for i in age_persons:\n",
    "    print(i)"
   ]
  },
  {
   "cell_type": "markdown",
   "id": "78cf4223",
   "metadata": {},
   "source": [
    "# WildCard character"
   ]
  },
  {
   "cell_type": "code",
   "execution_count": 10,
   "id": "145d7bf9",
   "metadata": {},
   "outputs": [
    {
     "name": "stdout",
     "output_type": "stream",
     "text": [
      "(1, 'veera', 22, 'kadapa')\n"
     ]
    }
   ],
   "source": [
    "\n",
    "query_wild=\"SELECT * FROM customer_table where cust_name LIKE 've%'\"\n",
    "mycursor.execute(query_wild)\n",
    "for i in mycursor:\n",
    "    print(i)"
   ]
  },
  {
   "cell_type": "markdown",
   "id": "929acafe",
   "metadata": {},
   "source": [
    "# Order by (or) Sort"
   ]
  },
  {
   "cell_type": "code",
   "execution_count": 11,
   "id": "c4bd92ed",
   "metadata": {},
   "outputs": [
    {
     "name": "stdout",
     "output_type": "stream",
     "text": [
      "(6, 'chandana', 22, 'Rayachoty')\n",
      "(5, 'sreekanth', 22, 'narpala')\n",
      "(4, 'aniket', 22, 'proddutur')\n",
      "(3, 'rahul', 23, 'Ananthapur')\n",
      "(2, 'ajay', 22, 'rajamundry')\n",
      "(1, 'veera', 22, 'kadapa')\n"
     ]
    }
   ],
   "source": [
    "#order by \n",
    "query_o = \"SELECT * FROM customer_table ORDER BY cust_id desc\"\n",
    "mycursor.execute(query_o)\n",
    "for i in mycursor:\n",
    "    print(i)"
   ]
  },
  {
   "cell_type": "markdown",
   "id": "e51a0042",
   "metadata": {},
   "source": [
    "# Limit"
   ]
  },
  {
   "cell_type": "code",
   "execution_count": 13,
   "id": "a2c0acaa",
   "metadata": {},
   "outputs": [
    {
     "name": "stdout",
     "output_type": "stream",
     "text": [
      "(3, 'rahul', 23, 'Ananthapur')\n",
      "(4, 'aniket', 22, 'proddutur')\n",
      "(5, 'sreekanth', 22, 'narpala')\n",
      "(6, 'chandana', 22, 'Rayachoty')\n"
     ]
    }
   ],
   "source": [
    "#limit\n",
    "mycursor.execute(\"SELECT * FROM customer_table LIMIT 5 OFFSET 2\")\n",
    "for i in mycursor:\n",
    "    print(i)"
   ]
  },
  {
   "cell_type": "markdown",
   "id": "25bab347",
   "metadata": {},
   "source": [
    "# Disconnect from server"
   ]
  },
  {
   "cell_type": "code",
   "execution_count": null,
   "id": "f8d3af1c",
   "metadata": {},
   "outputs": [],
   "source": [
    "#disconnect from server\n",
    "mydb.close()"
   ]
  }
 ],
 "metadata": {
  "kernelspec": {
   "display_name": "Python 3 (ipykernel)",
   "language": "python",
   "name": "python3"
  },
  "language_info": {
   "codemirror_mode": {
    "name": "ipython",
    "version": 3
   },
   "file_extension": ".py",
   "mimetype": "text/x-python",
   "name": "python",
   "nbconvert_exporter": "python",
   "pygments_lexer": "ipython3",
   "version": "3.11.3"
  }
 },
 "nbformat": 4,
 "nbformat_minor": 5
}
