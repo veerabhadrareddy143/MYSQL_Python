{
 "cells": [
  {
   "cell_type": "markdown",
   "id": "bef08725",
   "metadata": {},
   "source": [
    "# Class and Objects"
   ]
  },
  {
   "cell_type": "code",
   "execution_count": 8,
   "id": "92b80510",
   "metadata": {},
   "outputs": [
    {
     "name": "stdout",
     "output_type": "stream",
     "text": [
      "carname is : mahindra , and bike anme is hero\n"
     ]
    }
   ],
   "source": [
    "class vehicle:\n",
    "    def __init__(self,bikename,carname):\n",
    "        self.bikename=bikename\n",
    "        self.carname=carname\n",
    "    def display_info(self):\n",
    "        print(f\"carname is : {self.carname} , and bike anme is {self.bikename}\")\n",
    "\n",
    "obj=vehicle(\"hero\",\"mahindra\")\n",
    "obj.display_info()"
   ]
  },
  {
   "cell_type": "markdown",
   "id": "33fdfa91",
   "metadata": {},
   "source": [
    "# Encapsulation"
   ]
  },
  {
   "cell_type": "code",
   "execution_count": 13,
   "id": "88dfa461",
   "metadata": {},
   "outputs": [
    {
     "name": "stdout",
     "output_type": "stream",
     "text": [
      "12345678\n",
      "6000\n"
     ]
    }
   ],
   "source": [
    "class BankAccount:\n",
    "    def __init__(self,account_no,balance,type_ac):\n",
    "        self.__account_no=account_no          #private variable\n",
    "        self._balance = balance              # protected variable\n",
    "        self.type_ac=type_ac\n",
    "    def type_acc(self):\n",
    "        return self.type.ac\n",
    "        \n",
    "    def get_acc_no(self):\n",
    "        return self.__account_no\n",
    "    def balance_count(self):\n",
    "        return self._balance\n",
    "    \n",
    "    \n",
    "acc=BankAccount(\"12345678\",6000,\"savings\")\n",
    "print(acc.get_acc_no())\n",
    "print(acc.balance_count())"
   ]
  },
  {
   "cell_type": "markdown",
   "id": "426cb0c5",
   "metadata": {},
   "source": [
    "# Abstraction"
   ]
  },
  {
   "cell_type": "code",
   "execution_count": 14,
   "id": "5b4a38f1",
   "metadata": {},
   "outputs": [
    {
     "name": "stdout",
     "output_type": "stream",
     "text": [
      "Area: 78.5\n"
     ]
    }
   ],
   "source": [
    "from abc import ABC, abstractmethod\n",
    "\n",
    "class Shape(ABC):\n",
    "    @abstractmethod     #or if we wont mention any sentence it default treats it as abstract\n",
    "    def area(self):\n",
    "        pass\n",
    "\n",
    "class Circle(Shape):\n",
    "    def __init__(self, radius):\n",
    "        self.radius = radius\n",
    "\n",
    "    def area(self):\n",
    "        return 3.14 * self.radius**2\n",
    "\n",
    "# Trying to create an object of an abstract class will raise an error\n",
    "# shape = Shape()  # This will raise an error\n",
    "\n",
    "# Abstraction in action\n",
    "circle = Circle(5)\n",
    "print(\"Area:\", circle.area())\n"
   ]
  },
  {
   "cell_type": "markdown",
   "id": "34fc6859",
   "metadata": {},
   "source": [
    "# Polymorphism"
   ]
  },
  {
   "cell_type": "code",
   "execution_count": 15,
   "id": "ceb3f6b3",
   "metadata": {},
   "outputs": [
    {
     "name": "stdout",
     "output_type": "stream",
     "text": [
      "Area: 78.5\n",
      "Area: 24\n"
     ]
    }
   ],
   "source": [
    "class Shape:\n",
    "    def area(self):\n",
    "        pass\n",
    "\n",
    "class Circle(Shape):\n",
    "    def __init__(self, radius):\n",
    "        self.radius = radius\n",
    "\n",
    "    def area(self):\n",
    "        return 3.14 * self.radius**2\n",
    "\n",
    "class Rectangle(Shape):\n",
    "    def __init__(self, length, width):\n",
    "        self.length = length\n",
    "        self.width = width\n",
    "\n",
    "    def area(self):\n",
    "        return self.length * self.width\n",
    "\n",
    "# Polymorphism in action\n",
    "shapes = [Circle(5), Rectangle(4, 6)]\n",
    "for shape in shapes:\n",
    "    print(\"Area:\", shape.area())\n"
   ]
  },
  {
   "cell_type": "code",
   "execution_count": null,
   "id": "567616e3",
   "metadata": {},
   "outputs": [],
   "source": []
  }
 ],
 "metadata": {
  "kernelspec": {
   "display_name": "Python 3 (ipykernel)",
   "language": "python",
   "name": "python3"
  },
  "language_info": {
   "codemirror_mode": {
    "name": "ipython",
    "version": 3
   },
   "file_extension": ".py",
   "mimetype": "text/x-python",
   "name": "python",
   "nbconvert_exporter": "python",
   "pygments_lexer": "ipython3",
   "version": "3.11.3"
  }
 },
 "nbformat": 4,
 "nbformat_minor": 5
}
